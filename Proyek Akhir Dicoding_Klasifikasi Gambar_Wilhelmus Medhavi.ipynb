{
  "nbformat": 4,
  "nbformat_minor": 0,
  "metadata": {
    "colab": {
      "name": "Proyek_Akhir_Dicoding.ipynb",
      "provenance": [],
      "collapsed_sections": []
    },
    "kernelspec": {
      "name": "python3",
      "display_name": "Python 3"
    },
    "language_info": {
      "name": "python"
    },
    "accelerator": "GPU"
  },
  "cells": [
    {
      "cell_type": "markdown",
      "metadata": {
        "id": "UXt7bqrnR596"
      },
      "source": [
        "# Proyek Akhir : Klasifikasi Gambar\n",
        "**Nama : Wilhelmus Medhavi**\n",
        "\n",
        "Sumber Data : https://dicodingacademy.blob.core.windows.net/picodiploma/ml_pemula_academy/rockpaperscissors.zip\n"
      ]
    },
    {
      "cell_type": "code",
      "metadata": {
        "colab": {
          "base_uri": "https://localhost:8080/"
        },
        "id": "OIJIvygVRPAM",
        "outputId": "0cd7a6d2-3027-47d6-d1e6-dba46815b523"
      },
      "source": [
        "# NOTE : Please use GPU for runtime type hardware accelerator\n",
        "\n",
        "# Importing module\n",
        "import numpy as np\n",
        "import matplotlib.pyplot as plt\n",
        "import matplotlib.image as mpimg\n",
        "import tensorflow as tf\n",
        "import zipfile\n",
        "import os\n",
        "import shutil\n",
        "from tensorflow import keras\n",
        "from google.colab import files\n",
        "from tensorflow.keras.preprocessing import image\n",
        "from tensorflow.keras.preprocessing.image import ImageDataGenerator\n",
        "%matplotlib inline\n",
        "\n",
        "print(tf.__version__)"
      ],
      "execution_count": 1,
      "outputs": [
        {
          "output_type": "stream",
          "text": [
            "2.5.0\n"
          ],
          "name": "stdout"
        }
      ]
    },
    {
      "cell_type": "code",
      "metadata": {
        "colab": {
          "base_uri": "https://localhost:8080/"
        },
        "id": "xAoCmX_DUp44",
        "outputId": "964dc2b1-107f-49ff-817c-40a2f768c6df"
      },
      "source": [
        "# Download Dataset\n",
        "!wget --no-check-certificate \\\n",
        "https://dicodingacademy.blob.core.windows.net/picodiploma/ml_pemula_academy/rockpaperscissors.zip"
      ],
      "execution_count": 2,
      "outputs": [
        {
          "output_type": "stream",
          "text": [
            "--2021-07-13 04:42:27--  https://dicodingacademy.blob.core.windows.net/picodiploma/ml_pemula_academy/rockpaperscissors.zip\n",
            "Resolving dicodingacademy.blob.core.windows.net (dicodingacademy.blob.core.windows.net)... 52.239.197.36\n",
            "Connecting to dicodingacademy.blob.core.windows.net (dicodingacademy.blob.core.windows.net)|52.239.197.36|:443... connected.\n",
            "HTTP request sent, awaiting response... 200 OK\n",
            "Length: 322873683 (308M) [application/zip]\n",
            "Saving to: ‘rockpaperscissors.zip’\n",
            "\n",
            "rockpaperscissors.z 100%[===================>] 307.92M  4.23MB/s    in 55s     \n",
            "\n",
            "2021-07-13 04:43:23 (5.55 MB/s) - ‘rockpaperscissors.zip’ saved [322873683/322873683]\n",
            "\n"
          ],
          "name": "stdout"
        }
      ]
    },
    {
      "cell_type": "code",
      "metadata": {
        "id": "f0WKkG1hVh1o"
      },
      "source": [
        "# Data Extraction\n",
        "local_zip = 'rockpaperscissors.zip'\n",
        "zip_ref = zipfile.ZipFile(local_zip, 'r')\n",
        "zip_ref.extractall('/tmp')\n",
        "zip_ref.close()"
      ],
      "execution_count": 3,
      "outputs": []
    },
    {
      "cell_type": "code",
      "metadata": {
        "id": "piBdEilJWF05"
      },
      "source": [
        " # Define Directory\n",
        "base_dir = '/tmp/rockpaperscissors'\n",
        "train_dir = os.path.join(base_dir, 'train')\n",
        "val_dir = os.path.join(base_dir, 'val')\n",
        "os.mkdir(train_dir)\n",
        "os.mkdir(val_dir)"
      ],
      "execution_count": 4,
      "outputs": []
    },
    {
      "cell_type": "code",
      "metadata": {
        "id": "YBjxyh9NT0iD"
      },
      "source": [
        "# Creating Subdirectory\n",
        "for dir in [train_dir,val_dir]:\n",
        "  for sub in ['rock','paper','scissors'] :\n",
        "    os.mkdir(os.path.join(dir, sub))"
      ],
      "execution_count": 5,
      "outputs": []
    },
    {
      "cell_type": "code",
      "metadata": {
        "id": "um88sz1kciKb",
        "colab": {
          "base_uri": "https://localhost:8080/"
        },
        "outputId": "a2c131e2-a6df-4bd1-a753-a7e7f1072ed9"
      },
      "source": [
        "# Sorting and Checking Length\n",
        "rock_dirnm = os.listdir((base_dir)+'/rock')\n",
        "paper_dirnm = os.listdir((base_dir)+'/paper')\n",
        "scissors_dirnm = os.listdir((base_dir)+'/scissors')\n",
        "\n",
        "L_rock = len(rock_dirnm)\n",
        "L_paper = len(paper_dirnm)\n",
        "L_scissors = len(scissors_dirnm)\n",
        "\n",
        "print('Files in rock directory :', L_rock, 'Files')\n",
        "print('Files in paper directory :', L_paper, 'Files')\n",
        "print('Files in scissors directory :', L_scissors, 'Files')"
      ],
      "execution_count": 6,
      "outputs": [
        {
          "output_type": "stream",
          "text": [
            "Files in rock directory : 726 Files\n",
            "Files in paper directory : 712 Files\n",
            "Files in scissors directory : 750 Files\n"
          ],
          "name": "stdout"
        }
      ]
    },
    {
      "cell_type": "code",
      "metadata": {
        "id": "QlEglM7ZjmN7"
      },
      "source": [
        "# Split Data, RandomState, and Shuffle\n",
        "\n",
        "# RandomState\n",
        "RS = np.random.RandomState(1)\n",
        "\n",
        "# Shuffle\n",
        "RS.shuffle(rock_dirnm)\n",
        "RS.shuffle(paper_dirnm)\n",
        "RS.shuffle(scissors_dirnm)\n",
        "\n",
        "# Split Size\n",
        "Train_data = 0.6\n",
        "Test_data = 0.4\n",
        "\n",
        "# Defining and Moving Data Train\n",
        "train_rock_dirs = rock_dirnm[:int(L_rock*Train_data)]\n",
        "train_paper_dirs = paper_dirnm[:int(L_paper*Train_data)]\n",
        "train_scissors_dirs = scissors_dirnm[:int(L_scissors*Train_data)]\n",
        "\n",
        "for file in train_rock_dirs:\n",
        "    shutil.move(os.path.join('/tmp/rockpaperscissors/rock', file), os.path.join(train_dir, 'rock'))\n",
        "\n",
        "for file in train_paper_dirs:\n",
        "    shutil.move(os.path.join('/tmp/rockpaperscissors/paper', file), os.path.join(train_dir, 'paper'))\n",
        "\n",
        "for file in train_scissors_dirs:\n",
        "    shutil.move(os.path.join('/tmp/rockpaperscissors/scissors', file), os.path.join(train_dir, 'scissors'))\n",
        "\n",
        "# Defining and Moving Data Test\n",
        "test_rock_dirs = rock_dirnm[int(L_rock*Train_data):]\n",
        "test_paper_dirs = paper_dirnm[int(L_paper*Train_data):]\n",
        "test_scissors_dirs = scissors_dirnm[int(L_scissors*Train_data):]\n",
        "\n",
        "for file in test_rock_dirs:\n",
        "    shutil.move(os.path.join('/tmp/rockpaperscissors/rock', file), os.path.join( val_dir, 'rock'))\n",
        "\n",
        "for file in test_paper_dirs:\n",
        "    shutil.move(os.path.join('/tmp/rockpaperscissors/paper', file), os.path.join(val_dir, 'paper'))\n",
        "\n",
        "for file in test_scissors_dirs:\n",
        "    shutil.move(os.path.join('/tmp/rockpaperscissors/scissors', file), os.path.join(val_dir, 'scissors'))\n"
      ],
      "execution_count": 7,
      "outputs": []
    },
    {
      "cell_type": "code",
      "metadata": {
        "colab": {
          "base_uri": "https://localhost:8080/"
        },
        "id": "iepIbCPVvYYL",
        "outputId": "9bbf461f-98aa-4a9a-fd48-4470c13cde2f"
      },
      "source": [
        "# Using Image Generator\n",
        "train_data_gen = ImageDataGenerator(\n",
        "      rescale=1/255.0,\n",
        "      rotation_range=20, \n",
        "      horizontal_flip=True,\n",
        "      shear_range=0.2,\n",
        "      fill_mode='nearest'\n",
        ")\n",
        "\n",
        "val_data_gen = ImageDataGenerator(\n",
        "    rescale=1/255.0 \n",
        "    \n",
        ")\n",
        "\n",
        "train_gen = train_data_gen.flow_from_directory(\n",
        "    train_dir,\n",
        "    target_size=(150,150),\n",
        "    batch_size=72,\n",
        ")\n",
        "\n",
        "val_gen = val_data_gen.flow_from_directory(\n",
        "    val_dir,\n",
        "    target_size=(150,150),\n",
        "    batch_size=28,\n",
        ")"
      ],
      "execution_count": 8,
      "outputs": [
        {
          "output_type": "stream",
          "text": [
            "Found 1312 images belonging to 3 classes.\n",
            "Found 876 images belonging to 3 classes.\n"
          ],
          "name": "stdout"
        }
      ]
    },
    {
      "cell_type": "code",
      "metadata": {
        "id": "AGlGH5sovySC",
        "colab": {
          "base_uri": "https://localhost:8080/"
        },
        "outputId": "cdf90d3b-8fe2-4446-a773-94ee590f7c95"
      },
      "source": [
        "# Class Dictionary\n",
        "print('data train : ', train_gen.class_indices)\n",
        "print('data test : ', val_gen.class_indices)"
      ],
      "execution_count": 9,
      "outputs": [
        {
          "output_type": "stream",
          "text": [
            "data train :  {'paper': 0, 'rock': 1, 'scissors': 2}\n",
            "data test :  {'paper': 0, 'rock': 1, 'scissors': 2}\n"
          ],
          "name": "stdout"
        }
      ]
    },
    {
      "cell_type": "code",
      "metadata": {
        "id": "eOq35nm98U8v"
      },
      "source": [
        "# Making and Compiling Model\n",
        "model = tf.keras.models.Sequential([\n",
        "    tf.keras.layers.Conv2D(32, (3,3), activation='relu', input_shape=(150, 150, 3)),\n",
        "    tf.keras.layers.MaxPooling2D(2, 2),\n",
        "    tf.keras.layers.BatchNormalization(\n",
        "          axis=1,\n",
        "          momentum=0.99,\n",
        "          epsilon=0.01,\n",
        "          center=True,\n",
        "          beta_initializer=\"zeros\",\n",
        "          gamma_initializer=\"ones\",\n",
        "          moving_mean_initializer=\"zeros\",\n",
        "          moving_variance_initializer=\"ones\",\n",
        "    ),\n",
        "    tf.keras.layers.Conv2D(64, (3,3), activation='relu'),\n",
        "    tf.keras.layers.MaxPooling2D(2,2),\n",
        "    tf.keras.layers.Conv2D(128, (3,3), activation='relu'),\n",
        "    tf.keras.layers.MaxPooling2D(2,2),\n",
        "    tf.keras.layers.Conv2D(128, (3,3), activation='relu'),\n",
        "    tf.keras.layers.MaxPooling2D(2, 2),\n",
        "    tf.keras.layers.Flatten(),\n",
        "    tf.keras.layers.Dense(256, activation='relu'),\n",
        "    tf.keras.layers.Dropout(0.20),\n",
        "    tf.keras.layers.Dense(3, activation='softmax'),  \n",
        "])\n",
        "\n",
        "model.compile(loss='categorical_crossentropy',\n",
        "              optimizer=tf.optimizers.Adam(),\n",
        "              metrics=['accuracy'])"
      ],
      "execution_count": 10,
      "outputs": []
    },
    {
      "cell_type": "code",
      "metadata": {
        "colab": {
          "base_uri": "https://localhost:8080/"
        },
        "id": "Oup_GN8e9lpp",
        "outputId": "c62e72b9-7072-4c13-eb6c-ad8de29dcb40"
      },
      "source": [
        "# NOTE : Please use GPU for runtime type hardware accelerator\n",
        "\n",
        "# Fitting Model\n",
        "model.fit(\n",
        "      train_gen,\n",
        "      epochs=20, \n",
        "      validation_data=val_gen,\n",
        "      verbose=1)"
      ],
      "execution_count": 11,
      "outputs": [
        {
          "output_type": "stream",
          "text": [
            "Epoch 1/20\n",
            "19/19 [==============================] - 43s 570ms/step - loss: 1.1469 - accuracy: 0.4017 - val_loss: 1.0805 - val_accuracy: 0.3253\n",
            "Epoch 2/20\n",
            "19/19 [==============================] - 11s 558ms/step - loss: 0.6002 - accuracy: 0.7691 - val_loss: 0.9451 - val_accuracy: 0.4954\n",
            "Epoch 3/20\n",
            "19/19 [==============================] - 10s 553ms/step - loss: 0.3067 - accuracy: 0.8925 - val_loss: 0.7841 - val_accuracy: 0.7397\n",
            "Epoch 4/20\n",
            "19/19 [==============================] - 11s 556ms/step - loss: 0.2264 - accuracy: 0.9238 - val_loss: 0.5962 - val_accuracy: 0.8562\n",
            "Epoch 5/20\n",
            "19/19 [==============================] - 11s 561ms/step - loss: 0.2006 - accuracy: 0.9276 - val_loss: 0.5212 - val_accuracy: 0.8505\n",
            "Epoch 6/20\n",
            "19/19 [==============================] - 11s 557ms/step - loss: 0.1590 - accuracy: 0.9497 - val_loss: 0.3866 - val_accuracy: 0.9315\n",
            "Epoch 7/20\n",
            "19/19 [==============================] - 11s 588ms/step - loss: 0.1333 - accuracy: 0.9588 - val_loss: 0.4116 - val_accuracy: 0.8470\n",
            "Epoch 8/20\n",
            "19/19 [==============================] - 11s 555ms/step - loss: 0.1182 - accuracy: 0.9588 - val_loss: 0.2563 - val_accuracy: 0.9635\n",
            "Epoch 9/20\n",
            "19/19 [==============================] - 11s 558ms/step - loss: 0.0906 - accuracy: 0.9665 - val_loss: 0.2088 - val_accuracy: 0.9737\n",
            "Epoch 10/20\n",
            "19/19 [==============================] - 11s 555ms/step - loss: 0.0667 - accuracy: 0.9825 - val_loss: 0.1666 - val_accuracy: 0.9726\n",
            "Epoch 11/20\n",
            "19/19 [==============================] - 11s 557ms/step - loss: 0.0728 - accuracy: 0.9748 - val_loss: 0.1129 - val_accuracy: 0.9817\n",
            "Epoch 12/20\n",
            "19/19 [==============================] - 11s 563ms/step - loss: 0.0535 - accuracy: 0.9840 - val_loss: 0.1093 - val_accuracy: 0.9715\n",
            "Epoch 13/20\n",
            "19/19 [==============================] - 11s 558ms/step - loss: 0.0573 - accuracy: 0.9825 - val_loss: 0.1014 - val_accuracy: 0.9658\n",
            "Epoch 14/20\n",
            "19/19 [==============================] - 11s 564ms/step - loss: 0.0632 - accuracy: 0.9802 - val_loss: 0.1183 - val_accuracy: 0.9726\n",
            "Epoch 15/20\n",
            "19/19 [==============================] - 11s 556ms/step - loss: 0.1265 - accuracy: 0.9512 - val_loss: 0.1493 - val_accuracy: 0.9600\n",
            "Epoch 16/20\n",
            "19/19 [==============================] - 10s 553ms/step - loss: 0.0857 - accuracy: 0.9710 - val_loss: 0.0753 - val_accuracy: 0.9783\n",
            "Epoch 17/20\n",
            "19/19 [==============================] - 11s 557ms/step - loss: 0.0759 - accuracy: 0.9741 - val_loss: 0.0806 - val_accuracy: 0.9806\n",
            "Epoch 18/20\n",
            "19/19 [==============================] - 11s 558ms/step - loss: 0.0750 - accuracy: 0.9771 - val_loss: 0.0569 - val_accuracy: 0.9863\n",
            "Epoch 19/20\n",
            "19/19 [==============================] - 10s 552ms/step - loss: 0.0293 - accuracy: 0.9924 - val_loss: 0.0724 - val_accuracy: 0.9783\n",
            "Epoch 20/20\n",
            "19/19 [==============================] - 11s 558ms/step - loss: 0.0290 - accuracy: 0.9924 - val_loss: 0.0507 - val_accuracy: 0.9852\n"
          ],
          "name": "stdout"
        },
        {
          "output_type": "execute_result",
          "data": {
            "text/plain": [
              "<tensorflow.python.keras.callbacks.History at 0x7f779d766b90>"
            ]
          },
          "metadata": {
            "tags": []
          },
          "execution_count": 11
        }
      ]
    },
    {
      "cell_type": "code",
      "metadata": {
        "colab": {
          "resources": {
            "http://localhost:8080/nbextensions/google.colab/files.js": {
              "data": "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",
              "ok": true,
              "headers": [
                [
                  "content-type",
                  "application/javascript"
                ]
              ],
              "status": 200,
              "status_text": ""
            }
          },
          "base_uri": "https://localhost:8080/",
          "height": 358
        },
        "id": "Kqkx1KfCw5VH",
        "outputId": "e8621ae1-fd33-4136-d143-ca36c62b03e9"
      },
      "source": [
        " # Predicting images\n",
        "uploaded = files.upload()\n",
        " \n",
        "for f in uploaded.keys():\n",
        "  path = f\n",
        "  img = image.load_img(path, target_size=(150,150))\n",
        "  imgplot = plt.imshow(img)\n",
        "  x = image.img_to_array(img)\n",
        "  x = np.expand_dims(x, axis=0)\n",
        " \n",
        "  images = np.vstack([x])\n",
        "  images_class = model.predict(images, batch_size=10)\n",
        "  classes = np.argmax(images_class, axis=1)\n",
        "\n",
        "  print(f)\n",
        "  if classes==0:\n",
        "    print('paper')\n",
        "  elif classes==1:\n",
        "    print('rock')\n",
        "  elif classes==2:\n",
        "    print('scissors')\n",
        "  else:\n",
        "    print('unindentified')"
      ],
      "execution_count": 13,
      "outputs": [
        {
          "output_type": "display_data",
          "data": {
            "text/html": [
              "\n",
              "     <input type=\"file\" id=\"files-3170e5f7-bda4-43bd-8a1d-c6f01247003d\" name=\"files[]\" multiple disabled\n",
              "        style=\"border:none\" />\n",
              "     <output id=\"result-3170e5f7-bda4-43bd-8a1d-c6f01247003d\">\n",
              "      Upload widget is only available when the cell has been executed in the\n",
              "      current browser session. Please rerun this cell to enable.\n",
              "      </output>\n",
              "      <script src=\"/nbextensions/google.colab/files.js\"></script> "
            ],
            "text/plain": [
              "<IPython.core.display.HTML object>"
            ]
          },
          "metadata": {
            "tags": []
          }
        },
        {
          "output_type": "stream",
          "text": [
            "Saving test3.PNG to test3.PNG\n",
            "test3.PNG\n",
            "paper\n"
          ],
          "name": "stdout"
        },
        {
          "output_type": "display_data",
          "data": {
            "image/png": "[encoded data removed]",
            "text/plain": [
              "<Figure size 432x288 with 1 Axes>"
            ]
          },
          "metadata": {
            "tags": [],
            "needs_background": "light"
          }
        }
      ]
    }
  ]
}